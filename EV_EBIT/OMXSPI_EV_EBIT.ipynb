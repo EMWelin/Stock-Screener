{
  "nbformat": 4,
  "nbformat_minor": 0,
  "metadata": {
    "colab": {
      "provenance": []
    },
    "kernelspec": {
      "name": "python3",
      "display_name": "Python 3"
    },
    "language_info": {
      "name": "python"
    }
  },
  "cells": [
    {
      "cell_type": "markdown",
      "source": [
        "# Introduction\n",
        "\n",
        "Download financial data of the stocks in OMXSPI (390ish stocks listed in Stockholm), save them as database and fetch the cheapest one based on EV / EBIT\n",
        "\n",
        "EM Welin January 2025."
      ],
      "metadata": {
        "id": "zdNymuhGpglw"
      }
    },
    {
      "cell_type": "markdown",
      "source": [
        "# Download data."
      ],
      "metadata": {
        "id": "BoT17lSbx8l8"
      }
    },
    {
      "cell_type": "code",
      "execution_count": null,
      "metadata": {
        "colab": {
          "base_uri": "https://localhost:8080/"
        },
        "id": "LKaY0C2yTjS5",
        "outputId": "46c42a75-a0b4-457a-ebb4-9ac5e9ca5cad"
      },
      "outputs": [
        {
          "output_type": "stream",
          "name": "stdout",
          "text": [
            "Today's date: 2025-04-25\n",
            "--2025-04-25 12:48:45--  https://indexes.nasdaqomx.com/Index/ExportWeightings/OMXSPI?tradeDate=2025-04-25T00:00:00.000&timeOfDay=SOD\n",
            "Resolving indexes.nasdaqomx.com (indexes.nasdaqomx.com)... 45.60.150.18\n",
            "Connecting to indexes.nasdaqomx.com (indexes.nasdaqomx.com)|45.60.150.18|:443... connected.\n",
            "HTTP request sent, awaiting response... 200 OK\n",
            "Length: 21446 (21K) [application/vnd.openxmlformats-officedocument.spreadsheetml.sheet]\n",
            "Saving to: ‘tickers.xlsx’\n",
            "\n",
            "tickers.xlsx        100%[===================>]  20.94K  --.-KB/s    in 0.08s   \n",
            "\n",
            "2025-04-25 12:48:47 (276 KB/s) - ‘tickers.xlsx’ saved [21446/21446]\n",
            "\n"
          ]
        }
      ],
      "source": [
        "# download ticker data for OMXSPI from Nasdaq OMX\n",
        "\n",
        "# example address:\n",
        "# 'https://indexes.nasdaqomx.com/Index/ExportWeightings/OMXSPI?tradeDate=2025-01-16T00:00:00.000&timeOfDay=SOD'\n",
        "\n",
        "# need to replace '2025-01-16' with todays date in yyyy-mm-dd format.\n",
        "# this ensures that I always have the latest index-components.\n",
        "\n",
        "from datetime import date\n",
        "\n",
        "# Get today's date\n",
        "today = date.today()\n",
        "print(\"Today's date:\", today)\n",
        "\n",
        "# string1 is static part of the HTTP adress\n",
        "# string 2 is dynamically updated.\n",
        "\n",
        "string1 = 'https://indexes.nasdaqomx.com/Index/ExportWeightings/OMXSPI?tradeDate='\n",
        "string2 = str(today) + 'T00:00:00.000&timeOfDay=SOD'\n",
        "http = string1 + string2\n",
        "\n",
        "# the '{http}' makes sure the variable http is being treated as a string.\n",
        "# this make sure there are no problems with special characters.\n",
        "\n",
        "!wget -O tickers.xlsx '{http}'"
      ]
    },
    {
      "cell_type": "code",
      "source": [
        "import pandas as pd\n",
        "import numpy as np\n",
        "\n",
        "# Read the ticker file into a Pandas DataFrame\n",
        "df = pd.read_excel(\"tickers.xlsx\", engine=\"openpyxl\")\n",
        "df = df.dropna()"
      ],
      "metadata": {
        "id": "tRINKJa-XsSG"
      },
      "execution_count": null,
      "outputs": []
    },
    {
      "cell_type": "code",
      "source": [
        "tickers = tickers = df['Unnamed: 1'].iloc[1:]   #.iloc[1:] removes first row\n",
        "tickers_l = tickers.tolist() # create list of tickets.\n",
        "print(f' 5 first components of tickers_l: {tickers_l[:5]}')"
      ],
      "metadata": {
        "colab": {
          "base_uri": "https://localhost:8080/"
        },
        "id": "8thD0jMIbjUr",
        "outputId": "54772cd7-148f-4d0a-e84c-2cd7feda82b4"
      },
      "execution_count": null,
      "outputs": [
        {
          "output_type": "stream",
          "name": "stdout",
          "text": [
            " 5 first components of tickers_l: ['8TRA', 'AAK', 'ABB', 'ACAD', 'ACE']\n"
          ]
        }
      ]
    },
    {
      "cell_type": "code",
      "source": [
        "# Go from the Security Symbols used by Nasdaq to yahoo finance tickers.\n",
        "# this is necessary because the data is being fetched from Yahoo Finance.\n",
        "\n",
        "def convert_to_yahoo_ticker(name):\n",
        "    # Replace spaces with dashes and append .ST for Stockholm stocks\n",
        "    ticker = name.replace(\" \", \"-\") + \".ST\"\n",
        "    return ticker\n",
        "\n",
        "# Example usage\n",
        "#companies = [\"XANO B\", \"VOLVO B\", \"ERIC B\"]\n",
        "#yahoo_tickers = [convert_to_yahoo_ticker(company) for company in companies]"
      ],
      "metadata": {
        "id": "gouWUpjcwoh8"
      },
      "execution_count": null,
      "outputs": []
    },
    {
      "cell_type": "code",
      "source": [
        "yahoo_tickers = [convert_to_yahoo_ticker(company) for company in tickers_l]\n",
        "yahoo_tickers[:5]"
      ],
      "metadata": {
        "colab": {
          "base_uri": "https://localhost:8080/"
        },
        "outputId": "63c35bdc-b529-4759-b334-e965eb836fcd",
        "id": "RZBBitL0woh8"
      },
      "execution_count": null,
      "outputs": [
        {
          "output_type": "execute_result",
          "data": {
            "text/plain": [
              "['8TRA.ST', 'AAK.ST', 'ABB.ST', 'ACAD.ST', 'ACE.ST']"
            ]
          },
          "metadata": {},
          "execution_count": 9
        }
      ]
    },
    {
      "cell_type": "code",
      "source": [
        "# Remove the A entry if both A and B stocks are in the list.\n",
        "# for Example, we don't need 'ACRI-A.ST', and 'ACRI-B.ST', get rid of A.\n",
        "\n",
        "# A is usually less liquid so that's the one to get rid of.\n",
        "# Some exceptions exist. SHB B is for example less liquid than\n",
        "# SHB A. But, in general A is the one to get rid of.\n",
        "\n",
        "# Set to keep track of the stocks we want to keep\n",
        "tickers_list = set()\n",
        "\n",
        "# Iterate over each ticker\n",
        "for ticker in yahoo_tickers:\n",
        "    # Check if it's a version A (contains '-A') and see if its B counterpart exists\n",
        "    if '-A' in ticker:\n",
        "        counterpart = ticker.replace('-A', '-B')\n",
        "        if counterpart in yahoo_tickers:\n",
        "            continue  # Skip the A version if the B version exists\n",
        "    # Add to the set if it's not an A version or no B counterpart exists\n",
        "    tickers_list.add(ticker)\n",
        "\n",
        "# Convert the set back to a list (optional)\n",
        "tickers_list = list(tickers_list)\n",
        "\n",
        "print(tickers_list[:5])\n",
        "print(len(tickers_list))"
      ],
      "metadata": {
        "id": "a7klvDu1u_MJ"
      },
      "execution_count": null,
      "outputs": []
    },
    {
      "cell_type": "markdown",
      "source": [
        "# Build Database\n",
        "\n",
        "Build SQLite database of ticker info and financial info. This will be used\n",
        "for calculations later."
      ],
      "metadata": {
        "id": "u-zgoOlDVUwa"
      }
    },
    {
      "cell_type": "code",
      "source": [
        "# Helper functions for the next block that builds the database from financal info\n",
        "\n",
        "\n",
        "def ticker_already_done(ticker):\n",
        "    \"\"\"\n",
        "    Function to check if data from a ticker has already been fetched\n",
        "    This is used to help resume database-building after rate-limitation cut-off.\n",
        "    \"\"\"\n",
        "\n",
        "    cur.execute(\"SELECT status FROM valuations WHERE ticker = ?\", (ticker,))\n",
        "    row = cur.fetchone()\n",
        "    return row is not None and row[0] == 'ok'\n",
        "\n",
        "import pandas as pd\n",
        "\n",
        "def get_ebit(company):\n",
        "\n",
        "    try:\n",
        "      ebit_series = company.income_stmt.loc['EBIT']\n",
        "      ebit = ebit_series.iloc[0]\n",
        "    except KeyError:\n",
        "        ebit = None\n",
        "\n",
        "    return ebit\n",
        "\n",
        "\n",
        "import pandas as pd\n",
        "\n",
        "def get_net_debt(company, debt_fields):\n",
        "    \"\"\"\n",
        "    Function to calculate net debt for a given company.\n",
        "\n",
        "    Args:\n",
        "    - company: yfinance Ticker object representing the company.\n",
        "    - debt_fields: List of potential debt fields to calculate net debt.\n",
        "\n",
        "    Returns:\n",
        "    - net_debt: Calculated net debt value or None if no valid data found.\n",
        "    \"\"\"\n",
        "    net_debt = None\n",
        "\n",
        "    # Try to get 'Net Debt' first\n",
        "    try:\n",
        "        net_debt_series = company.balance_sheet.loc['Net Debt']\n",
        "        net_debt = net_debt_series.iloc[0]\n",
        "    except KeyError:\n",
        "        pass  # If 'Net Debt' is not available, we continue\n",
        "\n",
        "    # If 'Net Debt' is missing or NaN, try to calculate it from other debt fields\n",
        "    if pd.isna(net_debt):  # Check if it's NaN\n",
        "        for debt_field in debt_fields:\n",
        "            try:\n",
        "                # Get the total debt for the current debt field\n",
        "                total_debt_series = company.balance_sheet.loc[debt_field]\n",
        "                total_debt = total_debt_series.iloc[0]\n",
        "\n",
        "                # Get cash and equivalents\n",
        "                cash_series = company.balance_sheet.loc['Cash And Cash Equivalents']\n",
        "                cash = cash_series.iloc[0]\n",
        "\n",
        "                # If either total_debt or cash is missing, skip this field\n",
        "                if pd.isna(total_debt) or pd.isna(cash):\n",
        "                    continue\n",
        "\n",
        "                net_debt = total_debt - cash\n",
        "                break  # Exit the loop once net_debt is calculated\n",
        "\n",
        "            except KeyError:\n",
        "                continue  # Skip if the field is not present\n",
        "\n",
        "    # Return None if net_debt is still not available, otherwise return the calculated net_debt\n",
        "    return None if pd.isna(net_debt) else net_debt\n"
      ],
      "metadata": {
        "id": "_dZDwn41hxqO"
      },
      "execution_count": null,
      "outputs": []
    },
    {
      "cell_type": "code",
      "source": [
        "# This block: fetch stock data and build database.\n",
        "\n",
        "# Given that I am using free API, this block will, most likely, get ratelimited.\n",
        "# I have sleep timer in place to avoid fetching a lot of data too fast but\n",
        "# that might not be enough.\n",
        "\n",
        "# the function ticker_already_done keeps track of what has already been\n",
        "# processed so that this block can be ran multiple times til completition.\n",
        "\n",
        "\n",
        "import sqlite3\n",
        "import yfinance as yf\n",
        "import time\n",
        "\n",
        "conn = sqlite3.connect('valuations.db')\n",
        "cur = conn.cursor()\n",
        "\n",
        "cur.execute('''\n",
        "CREATE TABLE IF NOT EXISTS valuations (\n",
        "    ticker TEXT PRIMARY KEY,\n",
        "    sector TEXT,\n",
        "    market_cap REAL,\n",
        "    net_debt REAL,\n",
        "    ebit REAL,\n",
        "    status TEXT,\n",
        "    last_updated TIMESTAMP DEFAULT CURRENT_TIMESTAMP\n",
        ")\n",
        "''')\n",
        "conn.commit()\n",
        "\n",
        "\n",
        "# List of potential debt fields\n",
        "# This is used by get_net_debt()\n",
        "debt_fields = ['Net Debt', 'Total Debt', 'Total Liabilities Net Minority Interest']\n",
        "\n",
        "\n",
        "for ticker in tickers_list:\n",
        "    if ticker_already_done(ticker):\n",
        "        print(f\"Skipping {ticker} — already processed.\")\n",
        "        continue\n",
        "\n",
        "    try:\n",
        "        company = yf.Ticker(ticker)\n",
        "\n",
        "\n",
        "        # if not found, return None is what the second argument does.\n",
        "\n",
        "        MC = company.info.get('marketCap', None)\n",
        "        sector = company.info.get('sector', None)\n",
        "\n",
        "        ebit = get_ebit(company)\n",
        "\n",
        "\n",
        "        # custom function as net_debt has complicated logic.\n",
        "        net_debt = get_net_debt(company, debt_fields)\n",
        "\n",
        "\n",
        "        insert_stmt = (\n",
        "        \"INSERT OR REPLACE INTO valuations (ticker, sector, market_cap, net_debt, ebit, status)\"\n",
        "        \"values (?, ?, ?, ?, ?, ?)\" #placeholder.\n",
        "        )\n",
        "\n",
        "        data = (ticker, sector, MC, net_debt, ebit, 'ok')\n",
        "        cur.execute(insert_stmt, data)\n",
        "\n",
        "\n",
        "    except Exception as e:\n",
        "        print(f\"Error with {ticker}: {e}\")\n",
        "        cur.execute(\"INSERT OR REPLACE INTO valuations (ticker, status) VALUES (?, ?)\", (ticker, 'api_error'))\n",
        "\n",
        "    conn.commit()\n",
        "    time.sleep(2)  # avoid rate limits"
      ],
      "metadata": {
        "id": "fXWMQrW7VXcz"
      },
      "execution_count": null,
      "outputs": []
    },
    {
      "cell_type": "code",
      "source": [
        "# inspect the database\n",
        "\n",
        "\"\"\"\n",
        "import sqlite3\n",
        "\n",
        "# Connect to the database\n",
        "conn = sqlite3.connect('valuations.db')\n",
        "cur = conn.cursor()\n",
        "\n",
        "# Execute a query to fetch all rows from the valuations table\n",
        "cur.execute(\"SELECT * FROM valuations\")\n",
        "\n",
        "# Fetch all rows and print them\n",
        "rows = cur.fetchall()\n",
        "\n",
        "# Print each row\n",
        "for row in rows:\n",
        "    print(row)\n",
        "\n",
        "# Close the connection when done\n",
        "conn.close()\n",
        "\"\"\""
      ],
      "metadata": {
        "id": "b5u8-7Z5wYoO"
      },
      "execution_count": null,
      "outputs": []
    },
    {
      "cell_type": "code",
      "source": [
        "# create a second database that maps tickers to names\n",
        "\n",
        "import sqlite3\n",
        "\n",
        "conn = sqlite3.connect('ticker_mappings.db')\n",
        "cur = conn.cursor()\n",
        "\n",
        "cur.execute('''\n",
        "CREATE TABLE IF NOT EXISTS ticker_mappings (\n",
        "    ticker TEXT PRIMARY KEY,\n",
        "    name TEXT\n",
        ")\n",
        "''')\n",
        "conn.commit()\n",
        "\n",
        "# create ticker --> company name mapping\n",
        "\n",
        "# Create dictionary from col1 as keys and col2 as values\n",
        "mapping_dict = dict(zip(df['Unnamed: 1'].iloc[1:], df['Unnamed: 0'].iloc[1:]))\n",
        "\n",
        "# convert to yahoo keys.\n",
        "\n",
        "# Create a new dictionary with modified keys\n",
        "yahoo_mapping_dict = {convert_to_yahoo_ticker(key): value for key, value in mapping_dict.items()}\n",
        "\n",
        "# inser the dict values into the database\n",
        "\n",
        "for ticker, name in yahoo_mapping_dict.items():\n",
        "    try:\n",
        "        insert_stmt = '''\n",
        "        INSERT OR REPLACE INTO ticker_mappings (ticker, name)\n",
        "        VALUES (?, ?)\n",
        "        '''\n",
        "        cur.execute(insert_stmt, (ticker, name))\n",
        "    except Exception as e:\n",
        "        print(f\"Error inserting {ticker}: {e}\")\n",
        "\n",
        "# Commit the changes and close the connection\n",
        "conn.commit()\n",
        "conn.close()"
      ],
      "metadata": {
        "id": "jvDVhYR75TV3"
      },
      "execution_count": null,
      "outputs": []
    },
    {
      "cell_type": "code",
      "source": [
        "# Perform EV / EBIT ranking.\n",
        "\n",
        "import sqlite3\n",
        "\n",
        "\"\"\"\n",
        "Table: valuations (\n",
        "    ticker TEXT PRIMARY KEY,\n",
        "    sector TEXT,\n",
        "    market_cap REAL,\n",
        "    net_debt REAL,\n",
        "    ebit REAL,\n",
        "    status TEXT,\n",
        "    last_updated TIMESTAMP DEFAULT CURRENT_TIMESTAMP\n",
        "\"\"\"\n",
        "\n",
        "\"\"\"\n",
        "Table: ticker_mappings (\n",
        "    ticker TEXT PRIMARY KEY,\n",
        "    name TEXT\n",
        ")\n",
        "\"\"\"\n",
        "\n",
        "# Connect to the database\n",
        "conn = sqlite3.connect('valuations.db')\n",
        "cur = conn.cursor()\n",
        "\n",
        "# Attach the second database (ticker_mappings.db) to the current connection\n",
        "cur.execute(\"ATTACH DATABASE 'ticker_mappings.db' AS ticker_mappings\")\n",
        "\n",
        "\n",
        "# this query:\n",
        "# calculate ev / ebit rounded to two decimals\n",
        "# exclude Real Estate and Financials\n",
        "# join valuations to ticker_mappings so I can display names instead of tickers.\n",
        "# exclude negative EV / EBIT\n",
        "# rank by lowest positive EV / EBIT (Best)\n",
        "\n",
        "cur.execute(\"\"\"\n",
        "SELECT\n",
        "t.name,\n",
        "ROUND(\n",
        "(v.market_cap + v.net_debt) / v.ebit\n",
        ",2) AS ev_ebit\n",
        "FROM valuations v\n",
        "JOIN ticker_mappings t\n",
        "ON t.ticker = v.ticker\n",
        "WHERE\n",
        "v.sector NOT IN ('Real Estate', 'Financial Services')\n",
        "AND\n",
        "v.ebit > 0\n",
        "ORDER BY ev_ebit ASC\n",
        "\"\"\")\n",
        "\n",
        "\n",
        "# Fetch all rows\n",
        "rows = cur.fetchall()\n",
        "\n",
        "# Print top {fraction}% companies ranked by EV / EBIT\n",
        "\n",
        "fraction = 0.20\n",
        "length = len(rows)\n",
        "n = int(fraction * length)\n",
        "\n",
        "print(f\"Top {n} companies ranked by EV / EBIT \\n\")\n",
        "\n",
        "for row in rows[:n]:\n",
        "    print(f\"Company: {row[0]}, EV / EBIT: {row[1]}\")\n",
        "\n",
        "# Close the connection when done\n",
        "conn.close()"
      ],
      "metadata": {
        "colab": {
          "base_uri": "https://localhost:8080/"
        },
        "id": "jO4v6oK82_-k",
        "outputId": "494b8421-f959-45bf-a18e-67f9c410d056"
      },
      "execution_count": null,
      "outputs": [
        {
          "output_type": "stream",
          "name": "stdout",
          "text": [
            "Top 43 companies ranked by EV / EBIT \n",
            "\n",
            "Company: Volvo Car AB ser. B, EV / EBIT: 1.47\n",
            "Company: Eniro Group AB, EV / EBIT: 2.2\n",
            "Company: SSAB AB ser. B, EV / EBIT: 2.53\n",
            "Company: Saniona AB, EV / EBIT: 2.83\n",
            "Company: Enea AB, EV / EBIT: 3.03\n",
            "Company: Dedicare AB ser. B, EV / EBIT: 4.8\n",
            "Company: Bong AB, EV / EBIT: 5.01\n",
            "Company: Pricer AB ser. B, EV / EBIT: 5.27\n",
            "Company: Scandic Hotels Group AB, EV / EBIT: 5.59\n",
            "Company: AcadeMedia AB, EV / EBIT: 6.07\n",
            "Company: G5 Entertainment AB, EV / EBIT: 6.13\n",
            "Company: Bulten AB, EV / EBIT: 6.44\n",
            "Company: ProfilGruppen AB ser. B, EV / EBIT: 6.61\n",
            "Company: Nordic Paper Holding AB, EV / EBIT: 6.65\n",
            "Company: Boliden AB, EV / EBIT: 6.78\n",
            "Company: NOVOTEK AB ser. B, EV / EBIT: 6.87\n",
            "Company: B3 Consulting Group AB, EV / EBIT: 6.88\n",
            "Company: Arctic Paper S.A., EV / EBIT: 6.94\n",
            "Company: Sleep Cycle AB, EV / EBIT: 7.05\n",
            "Company: Profoto Holding AB, EV / EBIT: 7.11\n",
            "Company: Elanders AB ser. B, EV / EBIT: 7.54\n",
            "Company: Humana AB, EV / EBIT: 7.55\n",
            "Company: Green Landscaping Group AB, EV / EBIT: 7.61\n",
            "Company: Nilorngruppen AB Ser. B, EV / EBIT: 7.8\n",
            "Company: ATTENDO AB, EV / EBIT: 8.18\n",
            "Company: Netel Holding AB, EV / EBIT: 8.51\n",
            "Company: VBG GROUP AB ser. B, EV / EBIT: 8.64\n",
            "Company: SKF, AB ser. B, EV / EBIT: 8.82\n",
            "Company: Arla Plast AB, EV / EBIT: 9.02\n",
            "Company: Ambea AB, EV / EBIT: 9.08\n",
            "Company: Arjo AB ser. B, EV / EBIT: 9.08\n",
            "Company: Arise AB, EV / EBIT: 9.1\n",
            "Company: Stockwik Forvaltning AB, EV / EBIT: 9.68\n",
            "Company: Proact IT Group AB, EV / EBIT: 9.72\n",
            "Company: KABE Group AB ser. B, EV / EBIT: 9.75\n",
            "Company: Skanska AB ser. B, EV / EBIT: 9.87\n",
            "Company: Transtema AB, EV / EBIT: 9.9\n",
            "Company: NCC AB ser. B, EV / EBIT: 10.01\n",
            "Company: HEXPOL AB, ser. B, EV / EBIT: 10.09\n",
            "Company: I.A.R Systems Group AB ser. B, EV / EBIT: 10.3\n",
            "Company: Elekta AB ser. B, EV / EBIT: 10.33\n",
            "Company: Volvo, AB ser. B, EV / EBIT: 10.37\n",
            "Company: Loomis AB, EV / EBIT: 10.38\n"
          ]
        }
      ]
    }
  ]
}